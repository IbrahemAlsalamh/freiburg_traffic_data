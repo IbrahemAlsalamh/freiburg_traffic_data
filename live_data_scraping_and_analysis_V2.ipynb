{
 "cells": [
  {
   "cell_type": "code",
   "execution_count": 3,
   "metadata": {},
   "outputs": [
    {
     "name": "stderr",
     "output_type": "stream",
     "text": [
      "c:\\Users\\Ibrahem.Alsalamh\\Anaconda3\\envs\\geoenv\\lib\\site-packages\\osmnx\\utils.py:192: UserWarning: The `utils.config` function is deprecated and will be removed in a future release. Instead, use the `settings` module directly to configure a global setting's value. For example, `ox.settings.log_console=True`.\n",
      "  warnings.warn(\n"
     ]
    }
   ],
   "source": [
    "import pandas as pd\n",
    "import numpy as np\n",
    "import json\n",
    "import requests\n",
    "import datetime as dt\n",
    "from datetime import date, timedelta, datetime\n",
    "from tqdm.notebook import tqdm\n",
    "import time\n",
    "import osmnx as ox\n",
    "import geopandas as gpd\n",
    "import fiona\n",
    "import shapely.geometry as geom\n",
    "\n",
    "ox.config(log_console=True, use_cache=True)"
   ]
  },
  {
   "cell_type": "code",
   "execution_count": 175,
   "metadata": {},
   "outputs": [
    {
     "data": {
      "text/html": [
       "<div>\n",
       "<style scoped>\n",
       "    .dataframe tbody tr th:only-of-type {\n",
       "        vertical-align: middle;\n",
       "    }\n",
       "\n",
       "    .dataframe tbody tr th {\n",
       "        vertical-align: top;\n",
       "    }\n",
       "\n",
       "    .dataframe thead th {\n",
       "        text-align: right;\n",
       "    }\n",
       "</style>\n",
       "<table border=\"1\" class=\"dataframe\">\n",
       "  <thead>\n",
       "    <tr style=\"text-align: right;\">\n",
       "      <th></th>\n",
       "      <th>date</th>\n",
       "      <th>time</th>\n",
       "      <th>direction_test</th>\n",
       "      <th>score</th>\n",
       "      <th>speedBucket</th>\n",
       "      <th>c-Value</th>\n",
       "      <th>average</th>\n",
       "      <th>reference</th>\n",
       "      <th>speed</th>\n",
       "      <th>geometry</th>\n",
       "    </tr>\n",
       "  </thead>\n",
       "  <tbody>\n",
       "  </tbody>\n",
       "</table>\n",
       "</div>"
      ],
      "text/plain": [
       "Empty DataFrame\n",
       "Columns: [date, time, direction_test, score, speedBucket, c-Value, average, reference, speed, geometry]\n",
       "Index: []"
      ]
     },
     "execution_count": 175,
     "metadata": {},
     "output_type": "execute_result"
    }
   ],
   "source": [
    "ids = inrix_data_shp[\"direction_test\"]\n",
    "inrix_data_shp[ids.isin(ids[ids.duplicated()])].sort_values(\"direction_test\")"
   ]
  },
  {
   "cell_type": "code",
   "execution_count": 194,
   "metadata": {},
   "outputs": [],
   "source": [
    "## Get Inrix live data (1min), adjust them and join them with OSM\n",
    "url = 'http://inrixfreiburg.traffgoroad.com/inrix_freiburg.json'\n",
    "username = 'arup'\n",
    "password = 'RJXvRaFMk:'\n",
    "response=requests.get(url, auth=(username, password))\n",
    "response_json=response.json()\n",
    "data_segment=pd.DataFrame()\n",
    "\n",
    "for result in response_json['result']['segmentSpeeds']:\n",
    "    segments=result['segments']\n",
    "    data=pd.DataFrame(segments)\n",
    "    data['date']=datetime.today().strftime('%Y-%m-%d')\n",
    "    data['time']=dt.datetime.now().strftime('%H:%M')\n",
    "    data_segment=pd.concat([data_segment,data])\n",
    "data_segment.to_csv(r'C:\\Users\\Ibrahem.Alsalamh\\OneDrive - Arup\\Freiburg smart city\\traffic data\\inrix_data_live.csv')\n",
    "path_shp_inrix=r'C:\\Users\\Ibrahem.Alsalamh\\OneDrive - Arup\\Freiburg smart city\\traffic data\\shp\\inrix'\n",
    "inrix_data_csv=pd.read_csv(r'C:\\Users\\Ibrahem.Alsalamh\\OneDrive - Arup\\Freiburg smart city\\traffic data\\inrix_data_live.csv')\n",
    "inrix_data_shp2=gpd.read_file(path_shp_inrix)\n",
    "inrix_data_shp2['direction_test']=inrix_data_shp2['StartLat']+inrix_data_shp2['StartLong']+inrix_data_shp2['EndLat']+inrix_data_shp2['EndLong']\n",
    "inrix_data_shp2['direction_test'] = inrix_data_shp2['direction_test'].round(6)\n",
    "inrix_data_shp2=inrix_data_shp2[['XDSegID','RoadNumber','RoadName','PostalCode','geometry','direction_test']]\n",
    "inrix_data_shp2=pd.merge(inrix_data_csv, inrix_data_shp2,left_on='code',right_on='XDSegID',how='left')\n",
    "inrix_data_shp2=inrix_data_shp2[inrix_data_shp2['direction_test']>0]\n",
    "\n",
    "inrix_data_shp=inrix_data_shp2.groupby(['date', 'time', 'direction_test']).agg({'score':'mean','speedBucket':'mean','c-Value':'mean','average':'mean','reference':'mean','speed':'mean'}).reset_index()\n",
    "inrix_data_shp2=inrix_data_shp2.drop_duplicates(subset='direction_test')\n",
    "inrix_data_shp = pd.merge(inrix_data_shp, inrix_data_shp2[['geometry','direction_test']], on='direction_test')"
   ]
  },
  {
   "cell_type": "code",
   "execution_count": 140,
   "metadata": {},
   "outputs": [],
   "source": [
    "inrix_data_shp.to_clipboard()"
   ]
  },
  {
   "cell_type": "code",
   "execution_count": 203,
   "metadata": {},
   "outputs": [
    {
     "name": "stderr",
     "output_type": "stream",
     "text": [
      "c:\\Users\\Ibrahem.Alsalamh\\Anaconda3\\envs\\geoenv\\lib\\site-packages\\geopandas\\array.py:340: UserWarning: Geometry is in a geographic CRS. Results from 'sjoin_nearest' are likely incorrect. Use 'GeoSeries.to_crs()' to re-project geometries to a projected CRS before this operation.\n",
      "\n",
      "  warnings.warn(\n",
      "C:\\Users\\Ibrahem.Alsalamh\\AppData\\Local\\Temp\\ipykernel_16748\\2974547496.py:39: UserWarning: `keep_geom_type=True` in overlay resulted in 50033 dropped geometries of different geometry types than df1 has. Set `keep_geom_type=False` to retain all geometries\n",
      "  inrix_osm_data_shp=gpd.overlay(osm_network_joined,inrix_osm_data_shp, how='union')\n",
      "c:\\Users\\Ibrahem.Alsalamh\\Anaconda3\\envs\\geoenv\\lib\\site-packages\\urllib3\\connectionpool.py:1045: InsecureRequestWarning: Unverified HTTPS request is being made to host 'telraam-api.net'. Adding certificate verification is strongly advised. See: https://urllib3.readthedocs.io/en/1.26.x/advanced-usage.html#ssl-warnings\n",
      "  warnings.warn(\n"
     ]
    },
    {
     "data": {
      "application/vnd.jupyter.widget-view+json": {
       "model_id": "ddbb268eada5420a87eec10661e39f0b",
       "version_major": 2,
       "version_minor": 0
      },
      "text/plain": [
       "  0%|          | 0/6 [00:00<?, ?it/s]"
      ]
     },
     "metadata": {},
     "output_type": "display_data"
    },
    {
     "name": "stderr",
     "output_type": "stream",
     "text": [
      "c:\\Users\\Ibrahem.Alsalamh\\Anaconda3\\envs\\geoenv\\lib\\site-packages\\urllib3\\connectionpool.py:1045: InsecureRequestWarning: Unverified HTTPS request is being made to host 'telraam-api.net'. Adding certificate verification is strongly advised. See: https://urllib3.readthedocs.io/en/1.26.x/advanced-usage.html#ssl-warnings\n",
      "  warnings.warn(\n",
      "c:\\Users\\Ibrahem.Alsalamh\\Anaconda3\\envs\\geoenv\\lib\\site-packages\\urllib3\\connectionpool.py:1045: InsecureRequestWarning: Unverified HTTPS request is being made to host 'telraam-api.net'. Adding certificate verification is strongly advised. See: https://urllib3.readthedocs.io/en/1.26.x/advanced-usage.html#ssl-warnings\n",
      "  warnings.warn(\n",
      "c:\\Users\\Ibrahem.Alsalamh\\Anaconda3\\envs\\geoenv\\lib\\site-packages\\urllib3\\connectionpool.py:1045: InsecureRequestWarning: Unverified HTTPS request is being made to host 'telraam-api.net'. Adding certificate verification is strongly advised. See: https://urllib3.readthedocs.io/en/1.26.x/advanced-usage.html#ssl-warnings\n",
      "  warnings.warn(\n",
      "c:\\Users\\Ibrahem.Alsalamh\\Anaconda3\\envs\\geoenv\\lib\\site-packages\\urllib3\\connectionpool.py:1045: InsecureRequestWarning: Unverified HTTPS request is being made to host 'telraam-api.net'. Adding certificate verification is strongly advised. See: https://urllib3.readthedocs.io/en/1.26.x/advanced-usage.html#ssl-warnings\n",
      "  warnings.warn(\n",
      "c:\\Users\\Ibrahem.Alsalamh\\Anaconda3\\envs\\geoenv\\lib\\site-packages\\urllib3\\connectionpool.py:1045: InsecureRequestWarning: Unverified HTTPS request is being made to host 'telraam-api.net'. Adding certificate verification is strongly advised. See: https://urllib3.readthedocs.io/en/1.26.x/advanced-usage.html#ssl-warnings\n",
      "  warnings.warn(\n",
      "c:\\Users\\Ibrahem.Alsalamh\\Anaconda3\\envs\\geoenv\\lib\\site-packages\\urllib3\\connectionpool.py:1045: InsecureRequestWarning: Unverified HTTPS request is being made to host 'telraam-api.net'. Adding certificate verification is strongly advised. See: https://urllib3.readthedocs.io/en/1.26.x/advanced-usage.html#ssl-warnings\n",
      "  warnings.warn(\n",
      "c:\\Users\\Ibrahem.Alsalamh\\Anaconda3\\envs\\geoenv\\lib\\site-packages\\pandas\\core\\dtypes\\cast.py:122: ShapelyDeprecationWarning: The array interface is deprecated and will no longer work in Shapely 2.0. Convert the '.coords' to a numpy array instead.\n",
      "  arr = construct_1d_object_array_from_listlike(values)\n",
      "c:\\Users\\Ibrahem.Alsalamh\\Anaconda3\\envs\\geoenv\\lib\\site-packages\\pandas\\core\\dtypes\\cast.py:122: ShapelyDeprecationWarning: The array interface is deprecated and will no longer work in Shapely 2.0. Convert the '.coords' to a numpy array instead.\n",
      "  arr = construct_1d_object_array_from_listlike(values)\n",
      "c:\\Users\\Ibrahem.Alsalamh\\Anaconda3\\envs\\geoenv\\lib\\site-packages\\geopandas\\array.py:340: UserWarning: Geometry is in a geographic CRS. Results from 'sjoin_nearest' are likely incorrect. Use 'GeoSeries.to_crs()' to re-project geometries to a projected CRS before this operation.\n",
      "\n",
      "  warnings.warn(\n"
     ]
    }
   ],
   "source": [
    "## Get Inrix live data (1min), adjust them and join them with OSM\n",
    "url = 'http://inrixfreiburg.traffgoroad.com/inrix_freiburg.json'\n",
    "username = 'arup'\n",
    "password = 'RJXvRaFMk:'\n",
    "response=requests.get(url, auth=(username, password))\n",
    "response_json=response.json()\n",
    "data_segment=pd.DataFrame()\n",
    "\n",
    "for result in response_json['result']['segmentSpeeds']:\n",
    "    segments=result['segments']\n",
    "    data=pd.DataFrame(segments)\n",
    "    data['date']=datetime.today().strftime('%Y-%m-%d')\n",
    "    data['time']=dt.datetime.now().strftime('%H:%M')\n",
    "    data_segment=pd.concat([data_segment,data])\n",
    "data_segment.to_csv(r'C:\\Users\\Ibrahem.Alsalamh\\OneDrive - Arup\\Freiburg smart city\\traffic data\\inrix_data_live.csv')\n",
    "path_shp_inrix=r'C:\\Users\\Ibrahem.Alsalamh\\OneDrive - Arup\\Freiburg smart city\\traffic data\\shp\\inrix'\n",
    "inrix_data_csv=pd.read_csv(r'C:\\Users\\Ibrahem.Alsalamh\\OneDrive - Arup\\Freiburg smart city\\traffic data\\inrix_data_live.csv')\n",
    "inrix_data_shp2=gpd.read_file(path_shp_inrix)\n",
    "inrix_data_shp2['direction_test']=inrix_data_shp2['StartLat']+inrix_data_shp2['StartLong']+inrix_data_shp2['EndLat']+inrix_data_shp2['EndLong']\n",
    "inrix_data_shp2['direction_test'] = inrix_data_shp2['direction_test'].round(6)\n",
    "inrix_data_shp2=inrix_data_shp2[['XDSegID','RoadNumber','RoadName','PostalCode','geometry','direction_test']]\n",
    "inrix_data_shp2=pd.merge(inrix_data_csv, inrix_data_shp2,left_on='code',right_on='XDSegID',how='left')\n",
    "inrix_data_shp2=inrix_data_shp2[inrix_data_shp2['direction_test']>0]\n",
    "inrix_data_shp=inrix_data_shp2.groupby(['date', 'time', 'direction_test']).agg({'score':'mean','speedBucket':'mean','c-Value':'mean','average':'mean','reference':'mean','speed':'mean'}).reset_index()\n",
    "inrix_data_shp2=inrix_data_shp2.drop_duplicates(subset='direction_test')\n",
    "inrix_data_shp = pd.merge(inrix_data_shp, inrix_data_shp2[['geometry','direction_test']], on='direction_test')\n",
    "inrix_data_shp=inrix_data_shp.add_suffix('_inrix')\n",
    "inrix_data_shp = gpd.GeoDataFrame(inrix_data_shp, crs='EPSG:4326', geometry=inrix_data_shp.geometry_inrix)\n",
    "inrix_data_shp.drop('geometry_inrix',inplace=True,axis=1)\n",
    "\n",
    "# Combine with OSM network\n",
    "osm_network_joined=gpd.read_file(r'C:\\Users\\Ibrahem.Alsalamh\\OneDrive - Arup\\Freiburg smart city\\traffic data\\shp\\osm_data\\edited\\splitted_by_inrix')\n",
    "osm_network_joined = osm_network_joined[osm_network_joined['osm_id'].notna()]\n",
    "\n",
    "road_list=['motorway','motorway_link', 'trunk','trunk_link', 'primary','primary_link','secondary','secondary_link','tertiary','tertiary_link','edited_inrix']\n",
    "osm_network_joined2=osm_network_joined[osm_network_joined.fclass.isin(road_list)]\n",
    "inrix_osm_data_shp=gpd.sjoin_nearest(osm_network_joined2,inrix_data_shp, how='left',max_distance=0.001)\n",
    "inrix_osm_data_shp.drop('index_right',inplace=True,axis=1)\n",
    "inrix_osm_data_shp=gpd.overlay(osm_network_joined,inrix_osm_data_shp, how='union')\n",
    "inrix_osm_data_shp.drop(['osm_id_2', 'code_2',\n",
    "       'fclass_2', 'name_2', 'ref_2', 'oneway_2', 'maxspeed_2', 'layer_2',\n",
    "       'bridge_2', 'tunnel_2'],inplace=True,axis=1)\n",
    "inrix_osm_data_shp.columns = inrix_osm_data_shp.columns.str.rstrip(\"_1\")\n",
    "inrix_osm_data_shp=inrix_osm_data_shp.loc[inrix_osm_data_shp['fclass']!='track']\n",
    "\n",
    "## Download Telramm data from today \n",
    "# POSTtraffic snapshot Telraam to get a list of segment ids\n",
    "data_segment=pd.DataFrame()\n",
    "start_date=dt.date.today()\n",
    "url = \"https://telraam-api.net/v1/reports/traffic_snapshot\"\n",
    "payload = \"{\\r\\n    \\\"time\\\":\\\"\" +str(start_date)+ \" 00:00:00Z\\\",\\r\\n    \\\"contents\\\":\\\"full\\\",\\r\\n    \\\"area\\\":\\\"7.8359048,47.9963918,10\\\"\\r\\n}\\r\\n\"\n",
    "headers = {'X-Api-Key': 'ZUBaxBwcBF3RQPHekkp5W6bsl6ZHNpd47KnCOFiQ'}\n",
    "response = requests.request(\"POST\", url, headers=headers, data=payload,verify=False)\n",
    "response_json=response.json()\n",
    "response_json=pd.json_normalize(response_json['features'])  \n",
    "data_segment=pd.concat([data_segment,response_json])\n",
    "segment_ids_list=data_segment['properties.segment_id'].unique().tolist()\n",
    "geometry_data=data_segment[['properties.segment_id','geometry.coordinates']].drop_duplicates(subset='properties.segment_id')\n",
    "# POSTtraffic Telraam to get historical data\n",
    "data_repot=pd.DataFrame()\n",
    "for segment_id in tqdm(segment_ids_list):\n",
    "  time.sleep(2)\n",
    "  end_date = dt.date.today()\n",
    "  payload = \"{\\r\\n  \\\"level\\\": \\\"segments\\\",\\r\\n  \\\"format\\\": \\\"per-hour\\\",\\r\\n  \\\"id\\\": \\\"\"+str(segment_id)+\"\\\",\\r\\n  \\\"time_start\\\": \\\"\" +str(start_date)+ \" 00:00:00Z\\\",\\r\\n  \\\"time_end\\\": \\\"\"+ str(end_date)+ \" 23:00:00Z\\\"\\r\\n}\"\n",
    "  url = \"https://telraam-api.net/v1/reports/traffic\"\n",
    "  headers = {'X-Api-Key': 'ZUBaxBwcBF3RQPHekkp5W6bsl6ZHNpd47KnCOFiQ'}\n",
    "  response = requests.request(\"POST\", url, headers=headers, data=payload,verify=False)\n",
    "  response_json=response.json()\n",
    "\n",
    "  for result in response_json['report']:\n",
    "      data=pd.DataFrame([result])\n",
    "      data_repot=pd.concat([data_repot,data])\n",
    "# Bring the location data\n",
    "data_repot=pd.merge(left=data_repot,right=geometry_data,left_on='segment_id', right_on='properties.segment_id')\n",
    "data_repot.drop('properties.segment_id',inplace=True, axis=1)\n",
    "data_repot['date'] = pd.to_datetime(data_repot['date'])\n",
    "data_repot = data_repot[data_repot['date']==data_repot['date'].max()]\n",
    "data_repot.to_csv(r'C:\\Users\\Ibrahem.Alsalamh\\OneDrive - Arup\\Freiburg smart city\\traffic data\\telraam_data_freiburg_live.csv')\n",
    "# Read and transfer Telraam into shapefile and then intersect them with the osm data  \n",
    "telraam_data_shp=pd.read_csv(r'C:\\Users\\Ibrahem.Alsalamh\\OneDrive - Arup\\Freiburg smart city\\traffic data\\telraam_data_freiburg_live.csv',index_col=0)\n",
    "telraam_data_shp['geometry.coordinates_start']= telraam_data_shp['geometry.coordinates'].str.split(']').str[0].str.strip('[')\n",
    "telraam_data_shp[['start_x','start_y']] = telraam_data_shp['geometry.coordinates_start'].str.split(',',expand=True).astype(float)\n",
    "telraam_data_shp['geometry.coordinates_end']= telraam_data_shp['geometry.coordinates'].str.split('[').str[-1].str.strip(']')\n",
    "telraam_data_shp[['end_x','end_y']] = telraam_data_shp['geometry.coordinates_end'].str.split(',',expand=True).astype(float)\n",
    "telraam_data_shp['geometry'] = telraam_data_shp.apply(lambda x: geom.LineString([(x['start_x'], x['start_y']) , (x['end_x'], x['end_y'])]), axis = 1)\n",
    "telraam_data_shp['midpoint'] = telraam_data_shp.apply(lambda row: row['geometry'].centroid, axis=1) #Find centroid\n",
    "telraam_data_shp=telraam_data_shp.add_suffix('_telraam')\n",
    "telraam_data_shp = gpd.GeoDataFrame(telraam_data_shp, crs='EPSG:4326', geometry=telraam_data_shp.midpoint_telraam)\n",
    "telraam_data_shp.drop(['geometry.coordinates_telraam', 'geometry_telraam','geometry.coordinates_start_telraam','geometry.coordinates_end_telraam','start_x_telraam','start_y_telraam','end_x_telraam','end_y_telraam','midpoint_telraam'],inplace=True, axis=1)\n",
    "\n",
    "# Combine OSM, inrix and Telraam data\n",
    "telraam_data_joined=gpd.sjoin_nearest(inrix_osm_data_shp, telraam_data_shp, how='left',max_distance=0.00001)\n",
    "telraam_data_joined.drop(['index_right'],inplace=True,axis=1)\n",
    "\n",
    "telraam_data_ref=pd.read_csv('telraam_data_summary_ref.csv')\n",
    "telraam_data_joined=pd.merge(telraam_data_joined,telraam_data_ref, left_on='segment_id_telraam',right_on='segment_id_telraam_ref',how='left')\n",
    "telraam_data_joined['time_telraam'] = pd.DatetimeIndex(telraam_data_joined['date_telraam']).hour\n",
    "telraam_data_joined=telraam_data_joined.fillna(0)\n",
    "telraam_data_joined=telraam_data_joined.loc[(telraam_data_joined[['segment_id_telraam','time_inrix']] != 0).any(axis=1)]\n",
    "\n",
    "telraam_data_joined['cur_to_ref_speed_inrix']=np.round(100*(telraam_data_joined['speed_inrix']/telraam_data_joined['reference_inrix']),decimals=2)\n",
    "telraam_data_joined['cur_to_avrg_hgv_telraam']=np.round(100*(telraam_data_joined['heavy_telraam']/telraam_data_joined['heavy_telraam_ref']),decimals=2)\n",
    "telraam_data_joined['cur_to_avrg_car_telraam']=np.round(100*(telraam_data_joined['car_telraam']/telraam_data_joined['car_telraam_ref']),decimals=2)\n",
    "telraam_data_joined['cur_to_avrg_bike_telraam']=np.round(100*(telraam_data_joined['bike_telraam']/telraam_data_joined['bike_telraam_ref']),decimals=2)\n",
    "telraam_data_joined['cur_to_avrg_ped_telraam']=np.round(100*(telraam_data_joined['pedestrian_telraam']/telraam_data_joined['pedestrian_telraam_ref']),decimals=2)\n",
    "telraam_data_joined['cur_to_avrg_v85_telraam']=np.round(100*(telraam_data_joined['v85_telraam']/telraam_data_joined['v85_telraam_ref']),decimals=2)\n",
    "\n",
    "telraam_data_joined['veh_total_telrram_cur']=telraam_data_joined['heavy_telraam']+telraam_data_joined['car_telraam']\n",
    "telraam_data_joined['veh_total_telrram_ref']=telraam_data_joined['heavy_telraam_ref']+telraam_data_joined['car_telraam_ref']\n",
    "telraam_data_joined['cur_to_avrg_veh_telraam']=np.round(100*(telraam_data_joined['veh_total_telrram_cur']/telraam_data_joined['veh_total_telrram_ref']),decimals=2)\n",
    "telraam_data_joined=telraam_data_joined.fillna(0)\n",
    "telraam_data_joined[''] = ['no data' if x<=0 else'very congested' if 0<x<60 else 'congested' if 60<=x<80 else 'slightly congested' if 80<=x<100 else 'no congestion' for x in telraam_data_joined['cur_to_ref_speed_inrix']]\n",
    "telraam_data_joined['congestion_level_car_telraam'] = ['no data' if x<=0 else 'no congestion' if 0<x<60 else 'slightly congested' if 60<=x<80 else 'congested' if 80<=x<100 else 'very congestion' for x in telraam_data_joined['cur_to_avrg_car_telraam']]\n",
    "telraam_data_joined['congestion_level_hgv_telraam'] = ['no data' if x<=0 else 'no congestion' if 0<x<60 else 'slightly congested' if 60<=x<80 else 'congested' if 80<=x<100 else 'very congestion' for x in telraam_data_joined['cur_to_avrg_hgv_telraam']]\n",
    "telraam_data_joined=telraam_data_joined[['osm_id','direction_test_inrix','time_inrix','average_inrix','reference_inrix',\n",
    "'speed_inrix','cur_to_ref_speed_inrix','congestion_level_speed_inrix','segment_id_telraam',\n",
    "'time_telraam','uptime_telraam','uptime_telraam_ref','v85_telraam','heavy_telraam','car_telraam','bike_telraam','pedestrian_telraam',\n",
    "'cur_to_avrg_hgv_telraam','cur_to_avrg_car_telraam','cur_to_avrg_veh_telraam','cur_to_avrg_bike_telraam','cur_to_avrg_ped_telraam','cur_to_avrg_v85_telraam',\n",
    "'congestion_level_car_telraam','congestion_level_hgv_telraam','year_telraam_ref','count_days_telraam_ref','fclass','geometry']] #'road_name','city_distr'\n",
    "cols_at_end = ['geometry']\n",
    "telraam_data_joined = telraam_data_joined[[c for c in telraam_data_joined if c not in cols_at_end] + [c for c in cols_at_end if c in telraam_data_joined]]\n",
    "telraam_data_joined = gpd.GeoDataFrame(telraam_data_joined, crs='EPSG:4326', geometry=telraam_data_joined.geometry)\n",
    "telraam_data_joined.to_file(r'C:\\Users\\Ibrahem.Alsalamh\\OneDrive - Arup\\Freiburg smart city\\traffic data\\final_output\\final_data_joined_V02.geojson',driver=\"GeoJSON\")\n",
    "\n",
    "#telraam_data_joined.plot()\n"
   ]
  },
  {
   "cell_type": "code",
   "execution_count": 209,
   "metadata": {},
   "outputs": [],
   "source": [
    "telraam_data_joined2=telraam_data_joined.copy()\n",
    "telraam_data_joined2=telraam_data_joined2[telraam_data_joined2.duplicated(['osm_id', 'geometry'])]\n",
    "telraam_data_joined2.shape\n",
    "telraam_data_joined2.to_clipboard()"
   ]
  },
  {
   "cell_type": "code",
   "execution_count": null,
   "metadata": {},
   "outputs": [],
   "source": []
  },
  {
   "cell_type": "code",
   "execution_count": 189,
   "metadata": {},
   "outputs": [],
   "source": [
    "inrix_osm_data_shp\n",
    "inrix_osm_data_shp=inrix_osm_data_shp.copy()\n",
    "inrix_osm_data_shp=inrix_osm_data_shp[inrix_osm_data_shp.duplicated(['osm_id', 'geometry'])]\n",
    "telraam_data_joined2.to_clipboard()"
   ]
  }
 ],
 "metadata": {
  "kernelspec": {
   "display_name": "Python 3.10.5 ('geoenv')",
   "language": "python",
   "name": "python3"
  },
  "language_info": {
   "codemirror_mode": {
    "name": "ipython",
    "version": 3
   },
   "file_extension": ".py",
   "mimetype": "text/x-python",
   "name": "python",
   "nbconvert_exporter": "python",
   "pygments_lexer": "ipython3",
   "version": "3.10.5"
  },
  "orig_nbformat": 4,
  "vscode": {
   "interpreter": {
    "hash": "9456becd4f715a433957d24f60fbd97d0b6f6b06da114b8f87697215a0fbcc81"
   }
  }
 },
 "nbformat": 4,
 "nbformat_minor": 2
}
