{
 "cells": [
  {
   "cell_type": "code",
   "execution_count": 1,
   "metadata": {},
   "outputs": [],
   "source": [
    "import pandas as pd\n",
    "import json\n",
    "import requests\n",
    "import datetime as dt\n",
    "from datetime import date, timedelta, datetime\n",
    "from tqdm.notebook import tqdm\n",
    "import time\n",
    "\n",
    "# Function to make the start dates list \n",
    "def days(start, end, step=timedelta(days=90)):\n",
    "    curr = start\n",
    "    while curr <= end:\n",
    "        yield curr\n",
    "        curr += step"
   ]
  },
  {
   "cell_type": "code",
   "execution_count": 83,
   "metadata": {},
   "outputs": [],
   "source": [
    "# Create the date list\n",
    "starting_date=date(2020, 1, 1)\n",
    "date_list=list(days(starting_date, dt.date.today()))"
   ]
  },
  {
   "cell_type": "code",
   "execution_count": 84,
   "metadata": {},
   "outputs": [
    {
     "data": {
      "application/vnd.jupyter.widget-view+json": {
       "model_id": "811d54c1d57247198b607d80b6737b7f",
       "version_major": 2,
       "version_minor": 0
      },
      "text/plain": [
       "  0%|          | 0/12 [00:00<?, ?it/s]"
      ]
     },
     "metadata": {},
     "output_type": "display_data"
    }
   ],
   "source": [
    "# POSTtraffic snapshot Telraam to get a list of segment ids\n",
    "data_segment=pd.DataFrame()\n",
    "data_list2=date_list.copy()\n",
    "data_list2.append(dt.date.today())\n",
    "for start_date in tqdm(data_list2):\n",
    "  time.sleep(2)\n",
    "  url = \"https://telraam-api.net/v1/reports/traffic_snapshot\"\n",
    "  payload = \"{\\r\\n    \\\"time\\\":\\\"\" +str(start_date)+ \" 00:00:00Z\\\",\\r\\n    \\\"contents\\\":\\\"full\\\",\\r\\n    \\\"area\\\":\\\"7.8359048,47.9963918,10\\\"\\r\\n}\\r\\n\"\n",
    "  headers = {'X-Api-Key': '9bDufSS8AE2NAOT2R5YtR9vutyukJlZh6ZQyhTnQ'}\n",
    "  response = requests.request(\"POST\", url, headers=headers, data=payload,)\n",
    "  response_json=response.json()\n",
    "  response_json=pd.json_normalize(response_json['features'])  \n",
    "  data_segment=pd.concat([data_segment,response_json])\n",
    "\n",
    "segment_ids_list=data_segment['properties.segment_id'].unique().tolist()\n",
    "geometry_data=data_segment[['properties.segment_id','geometry.coordinates']].drop_duplicates(subset='properties.segment_id')"
   ]
  },
  {
   "cell_type": "code",
   "execution_count": 86,
   "metadata": {},
   "outputs": [
    {
     "data": {
      "application/vnd.jupyter.widget-view+json": {
       "model_id": "2da05d0033614f3db5c967d3e91d0644",
       "version_major": 2,
       "version_minor": 0
      },
      "text/plain": [
       "  0%|          | 0/11 [00:00<?, ?it/s]"
      ]
     },
     "metadata": {},
     "output_type": "display_data"
    },
    {
     "data": {
      "application/vnd.jupyter.widget-view+json": {
       "model_id": "23dd6150b7cb4a4ab22bd1ef9e093a1a",
       "version_major": 2,
       "version_minor": 0
      },
      "text/plain": [
       "  0%|          | 0/11 [00:00<?, ?it/s]"
      ]
     },
     "metadata": {},
     "output_type": "display_data"
    },
    {
     "data": {
      "application/vnd.jupyter.widget-view+json": {
       "model_id": "6bc8bd4a4edf445b95076139fc436eb7",
       "version_major": 2,
       "version_minor": 0
      },
      "text/plain": [
       "  0%|          | 0/11 [00:00<?, ?it/s]"
      ]
     },
     "metadata": {},
     "output_type": "display_data"
    },
    {
     "data": {
      "application/vnd.jupyter.widget-view+json": {
       "model_id": "3ce52ff71407453485cc2317b387d62d",
       "version_major": 2,
       "version_minor": 0
      },
      "text/plain": [
       "  0%|          | 0/11 [00:00<?, ?it/s]"
      ]
     },
     "metadata": {},
     "output_type": "display_data"
    },
    {
     "data": {
      "application/vnd.jupyter.widget-view+json": {
       "model_id": "b3b7366a40ee43869246c9f7ad839cf1",
       "version_major": 2,
       "version_minor": 0
      },
      "text/plain": [
       "  0%|          | 0/11 [00:00<?, ?it/s]"
      ]
     },
     "metadata": {},
     "output_type": "display_data"
    },
    {
     "data": {
      "application/vnd.jupyter.widget-view+json": {
       "model_id": "1c4aa8fc661243e2b045e8402faa6b9e",
       "version_major": 2,
       "version_minor": 0
      },
      "text/plain": [
       "  0%|          | 0/11 [00:00<?, ?it/s]"
      ]
     },
     "metadata": {},
     "output_type": "display_data"
    },
    {
     "data": {
      "application/vnd.jupyter.widget-view+json": {
       "model_id": "53eef9cb48274403887c4b4b4c9d758c",
       "version_major": 2,
       "version_minor": 0
      },
      "text/plain": [
       "  0%|          | 0/11 [00:00<?, ?it/s]"
      ]
     },
     "metadata": {},
     "output_type": "display_data"
    },
    {
     "data": {
      "application/vnd.jupyter.widget-view+json": {
       "model_id": "b043d7ac30bd4348973f79797cec3134",
       "version_major": 2,
       "version_minor": 0
      },
      "text/plain": [
       "  0%|          | 0/11 [00:00<?, ?it/s]"
      ]
     },
     "metadata": {},
     "output_type": "display_data"
    },
    {
     "data": {
      "application/vnd.jupyter.widget-view+json": {
       "model_id": "8aa305b32abd43d5a7f2c69caa5a0c2a",
       "version_major": 2,
       "version_minor": 0
      },
      "text/plain": [
       "  0%|          | 0/11 [00:00<?, ?it/s]"
      ]
     },
     "metadata": {},
     "output_type": "display_data"
    },
    {
     "data": {
      "application/vnd.jupyter.widget-view+json": {
       "model_id": "f566ee5d2cde4237aa0a0d285614cf34",
       "version_major": 2,
       "version_minor": 0
      },
      "text/plain": [
       "  0%|          | 0/11 [00:00<?, ?it/s]"
      ]
     },
     "metadata": {},
     "output_type": "display_data"
    },
    {
     "data": {
      "application/vnd.jupyter.widget-view+json": {
       "model_id": "62325f48c30f4a4fa62db8dbf3ddd848",
       "version_major": 2,
       "version_minor": 0
      },
      "text/plain": [
       "  0%|          | 0/11 [00:00<?, ?it/s]"
      ]
     },
     "metadata": {},
     "output_type": "display_data"
    },
    {
     "data": {
      "application/vnd.jupyter.widget-view+json": {
       "model_id": "c7dafa9fa64d4588992e112c13c25fc2",
       "version_major": 2,
       "version_minor": 0
      },
      "text/plain": [
       "  0%|          | 0/11 [00:00<?, ?it/s]"
      ]
     },
     "metadata": {},
     "output_type": "display_data"
    }
   ],
   "source": [
    "# POSTtraffic Telraam to get historical data\n",
    "data_repot=pd.DataFrame()\n",
    "for segment_id in tqdm(segment_ids_list):\n",
    "    for start_date in tqdm(date_list):\n",
    "        time.sleep(2)\n",
    "        end_date=start_date+ dt.timedelta(days=89)\n",
    "        if end_date <= dt.date.today():\n",
    "            payload = \"{\\r\\n  \\\"level\\\": \\\"segments\\\",\\r\\n  \\\"format\\\": \\\"per-hour\\\",\\r\\n  \\\"id\\\": \\\"\"+str(segment_id)+\"\\\",\\r\\n  \\\"time_start\\\": \\\"\" +str(start_date)+ \" 00:00:00Z\\\",\\r\\n  \\\"time_end\\\": \\\"\"+ str(end_date)+ \" 23:00:00Z\\\"\\r\\n}\"\n",
    "            url = \"https://telraam-api.net/v1/reports/traffic\"\n",
    "            headers = {'X-Api-Key': '9bDufSS8AE2NAOT2R5YtR9vutyukJlZh6ZQyhTnQ'}\n",
    "            response = requests.request(\"POST\", url, headers=headers, data=payload)\n",
    "            response_json=response.json()\n",
    "\n",
    "            for result in response_json['report']:\n",
    "                data=pd.DataFrame([result])\n",
    "                data_repot=pd.concat([data_repot,data])\n",
    "\n",
    "    start_date = end_date+dt.timedelta(days=-89)            \n",
    "    end_date = dt.date.today()\n",
    "    payload = \"{\\r\\n  \\\"level\\\": \\\"segments\\\",\\r\\n  \\\"format\\\": \\\"per-hour\\\",\\r\\n  \\\"id\\\": \\\"\"+str(segment_id)+\"\\\",\\r\\n  \\\"time_start\\\": \\\"\" +str(start_date)+ \" 00:00:00Z\\\",\\r\\n  \\\"time_end\\\": \\\"\"+ str(end_date)+ \" 23:00:00Z\\\"\\r\\n}\"\n",
    "    url = \"https://telraam-api.net/v1/reports/traffic\"\n",
    "    headers = {'X-Api-Key': '9bDufSS8AE2NAOT2R5YtR9vutyukJlZh6ZQyhTnQ'}\n",
    "    response = requests.request(\"POST\", url, headers=headers, data=payload)\n",
    "    response_json=response.json()\n",
    "\n",
    "    for result in response_json['report']:\n",
    "        data=pd.DataFrame([result])\n",
    "        data_repot=pd.concat([data_repot,data])\n",
    "\n",
    "# Add the type of day\n",
    "data_repot['weekday']=data_repot['date'].str.split('T').str[0]\n",
    "data_repot['weekday'] =  pd.to_datetime(data_repot['weekday'], format='%Y-%m-%d')\n",
    "data_repot['weekday'] = data_repot['weekday'].dt.weekday.apply(lambda x: 'Weekday' if x < 5 else 'Weekend')   \n",
    "\n",
    "# Bring the location data\n",
    "data_repot=pd.merge(left=data_repot,right=geometry_data,left_on='segment_id', right_on='properties.segment_id')\n",
    "data_repot.drop('properties.segment_id',inplace=True, axis=1)\n",
    "\n",
    "data_repot.to_csv(r'C:\\Users\\Ibrahem.Alsalamh\\OneDrive - Arup\\Freiburg smart city\\traffic data\\telraam_data_freiburg_complete.csv')\n"
   ]
  },
  {
   "cell_type": "code",
   "execution_count": null,
   "metadata": {},
   "outputs": [],
   "source": [
    "# we need to understand why this is the last time 2022-07-20T20:00:00.000Z"
   ]
  },
  {
   "cell_type": "code",
   "execution_count": null,
   "metadata": {},
   "outputs": [],
   "source": [
    "# POSTtraffic Telraam to get historical data \n",
    "url = \"https://telraam-api.net/v1/reports/traffic\"\n",
    "payload = \"{\\r\\n  \\\"level\\\": \\\"segments\\\",\\r\\n  \\\"format\\\": \\\"per-hour\\\",\\r\\n  \\\"id\\\": \\\"9000001395\\\",\\r\\n  \\\"time_start\\\": \\\"2022-03-30 07:00:00Z\\\",\\r\\n  \\\"time_end\\\": \\\"2022-06-30 09:00:00Z\\\"\\r\\n}\"\n",
    "headers = {'X-Api-Key': '9bDufSS8AE2NAOT2R5YtR9vutyukJlZh6ZQyhTnQ'}\n",
    "\n",
    "response = requests.request(\"POST\", url, headers=headers, data=payload)\n",
    "response_json=response.json()\n",
    "\n",
    "#data_repot=pd.DataFrame()\n",
    "#for result in response_json['report']:\n",
    "#    data=pd.DataFrame([result])\n",
    "#    data_repot=pd.concat([data_repot,data])\n",
    "\n",
    "#data_repot\n",
    "#data_repot.to_csv(r'C:\\Users\\Ibrahem.Alsalamh\\OneDrive - Arup\\Freiburg smart city\\traffic data\\telraam_data_postTraffic.csv')"
   ]
  },
  {
   "cell_type": "code",
   "execution_count": null,
   "metadata": {},
   "outputs": [],
   "source": [
    "url = \"https://telraam-api.net/v1/reports/traffic_snapshot\"\n",
    "payload = \"{\\r\\n    \\\"time\\\":\\\"live\\\",\\r\\n    \\\"contents\\\":\\\"full\\\",\\r\\n    \\\"area\\\":\\\"7.8359048,47.9963918,10\\\"\\r\\n}\\r\\n\"\n",
    "headers = {'X-Api-Key': '9bDufSS8AE2NAOT2R5YtR9vutyukJlZh6ZQyhTnQ'}\n",
    "response = requests.request(\"POST\", url, headers=headers, data=payload,)\n",
    "response_json=response.json()\n",
    "response_json=pd.json_normalize(response_json['features'])\n",
    "\n"
   ]
  },
  {
   "cell_type": "code",
   "execution_count": null,
   "metadata": {},
   "outputs": [
    {
     "data": {
      "text/html": [
       "<div>\n",
       "<style scoped>\n",
       "    .dataframe tbody tr th:only-of-type {\n",
       "        vertical-align: middle;\n",
       "    }\n",
       "\n",
       "    .dataframe tbody tr th {\n",
       "        vertical-align: top;\n",
       "    }\n",
       "\n",
       "    .dataframe thead th {\n",
       "        text-align: right;\n",
       "    }\n",
       "</style>\n",
       "<table border=\"1\" class=\"dataframe\">\n",
       "  <thead>\n",
       "    <tr style=\"text-align: right;\">\n",
       "      <th></th>\n",
       "      <th>type</th>\n",
       "      <th>geometry.type</th>\n",
       "      <th>geometry.coordinates</th>\n",
       "      <th>properties.segment_id</th>\n",
       "      <th>properties.last_data_package</th>\n",
       "      <th>properties.timezone</th>\n",
       "      <th>properties.date</th>\n",
       "      <th>properties.period</th>\n",
       "      <th>properties.uptime</th>\n",
       "      <th>properties.heavy</th>\n",
       "      <th>properties.car</th>\n",
       "      <th>properties.bike</th>\n",
       "      <th>properties.pedestrian</th>\n",
       "      <th>properties.v85</th>\n",
       "    </tr>\n",
       "  </thead>\n",
       "  <tbody>\n",
       "    <tr>\n",
       "      <th>0</th>\n",
       "      <td>Feature</td>\n",
       "      <td>MultiLineString</td>\n",
       "      <td>[[[7.85632179465978, 47.9946964038859], [7.856...</td>\n",
       "      <td>9000002131</td>\n",
       "      <td>2022-07-21 08:07:23.256700+00:00</td>\n",
       "      <td>Europe/Berlin</td>\n",
       "      <td>2022-07-21 06:00:00+00:00</td>\n",
       "      <td>hourly</td>\n",
       "      <td>0.77</td>\n",
       "      <td>309.090909</td>\n",
       "      <td>1116.883117</td>\n",
       "      <td>592.207792</td>\n",
       "      <td>51.948052</td>\n",
       "      <td>35.0</td>\n",
       "    </tr>\n",
       "    <tr>\n",
       "      <th>1</th>\n",
       "      <td>Feature</td>\n",
       "      <td>MultiLineString</td>\n",
       "      <td>[[[7.84317729466333, 47.9938840038842], [7.842...</td>\n",
       "      <td>9000002278</td>\n",
       "      <td>2022-07-21 08:05:36.323700+00:00</td>\n",
       "      <td>Europe/Berlin</td>\n",
       "      <td>2022-07-21 06:00:00+00:00</td>\n",
       "      <td>hourly</td>\n",
       "      <td>0.550833</td>\n",
       "      <td>30.86233</td>\n",
       "      <td>174.281392</td>\n",
       "      <td>176.096823</td>\n",
       "      <td>10.892587</td>\n",
       "      <td>15.0</td>\n",
       "    </tr>\n",
       "    <tr>\n",
       "      <th>2</th>\n",
       "      <td>Feature</td>\n",
       "      <td>MultiLineString</td>\n",
       "      <td>[[[7.83662139466394, 47.9843122038866], [7.836...</td>\n",
       "      <td>9000002313</td>\n",
       "      <td>2022-07-21 08:07:24.882100+00:00</td>\n",
       "      <td>Europe/Berlin</td>\n",
       "      <td>2022-07-21 06:00:00+00:00</td>\n",
       "      <td>hourly</td>\n",
       "      <td>0.526389</td>\n",
       "      <td>271.662269</td>\n",
       "      <td>526.226913</td>\n",
       "      <td>484.432718</td>\n",
       "      <td>74.08971</td>\n",
       "      <td>29.5</td>\n",
       "    </tr>\n",
       "    <tr>\n",
       "      <th>3</th>\n",
       "      <td>Feature</td>\n",
       "      <td>MultiLineString</td>\n",
       "      <td>[[[7.8597269946613, 48.0142050038795], [7.8604...</td>\n",
       "      <td>9000002438</td>\n",
       "      <td>2022-06-13 16:13:29.082700+00:00</td>\n",
       "      <td>Europe/Berlin</td>\n",
       "      <td></td>\n",
       "      <td></td>\n",
       "      <td></td>\n",
       "      <td></td>\n",
       "      <td></td>\n",
       "      <td></td>\n",
       "      <td></td>\n",
       "      <td></td>\n",
       "    </tr>\n",
       "    <tr>\n",
       "      <th>4</th>\n",
       "      <td>Feature</td>\n",
       "      <td>MultiLineString</td>\n",
       "      <td>[[[7.85325729466223, 48.007344503881], [7.8532...</td>\n",
       "      <td>9000002543</td>\n",
       "      <td>2022-07-21 08:08:29.127100+00:00</td>\n",
       "      <td>Europe/Berlin</td>\n",
       "      <td>2022-07-21 06:00:00+00:00</td>\n",
       "      <td>hourly</td>\n",
       "      <td>0.712222</td>\n",
       "      <td>11.232449</td>\n",
       "      <td>87.051482</td>\n",
       "      <td>203.588144</td>\n",
       "      <td>32.293292</td>\n",
       "      <td>30.5</td>\n",
       "    </tr>\n",
       "    <tr>\n",
       "      <th>5</th>\n",
       "      <td>Feature</td>\n",
       "      <td>MultiLineString</td>\n",
       "      <td>[[[7.81726769467111, 47.9985348038787], [7.816...</td>\n",
       "      <td>9000002571</td>\n",
       "      <td>2021-12-20 09:01:05.874900+00:00</td>\n",
       "      <td>Europe/Berlin</td>\n",
       "      <td></td>\n",
       "      <td></td>\n",
       "      <td></td>\n",
       "      <td></td>\n",
       "      <td></td>\n",
       "      <td></td>\n",
       "      <td></td>\n",
       "      <td></td>\n",
       "    </tr>\n",
       "    <tr>\n",
       "      <th>6</th>\n",
       "      <td>Feature</td>\n",
       "      <td>MultiLineString</td>\n",
       "      <td>[[[7.81134179467293, 47.9999279038773], [7.811...</td>\n",
       "      <td>9000003492</td>\n",
       "      <td>2022-07-21 08:07:49.110400+00:00</td>\n",
       "      <td>Europe/Berlin</td>\n",
       "      <td>2022-07-21 06:00:00+00:00</td>\n",
       "      <td>hourly</td>\n",
       "      <td>0.0</td>\n",
       "      <td>0.0</td>\n",
       "      <td>0.0</td>\n",
       "      <td>0.0</td>\n",
       "      <td>0.0</td>\n",
       "      <td></td>\n",
       "    </tr>\n",
       "    <tr>\n",
       "      <th>7</th>\n",
       "      <td>Feature</td>\n",
       "      <td>MultiLineString</td>\n",
       "      <td>[[[7.843815694662, 47.9847759038875], [7.84338...</td>\n",
       "      <td>9000003844</td>\n",
       "      <td>2022-07-21 08:07:08.759100+00:00</td>\n",
       "      <td>Europe/Berlin</td>\n",
       "      <td>2022-07-21 06:00:00+00:00</td>\n",
       "      <td>hourly</td>\n",
       "      <td>0.535</td>\n",
       "      <td>71.028037</td>\n",
       "      <td>364.485981</td>\n",
       "      <td>259.813084</td>\n",
       "      <td>3.738318</td>\n",
       "      <td>11.5</td>\n",
       "    </tr>\n",
       "    <tr>\n",
       "      <th>8</th>\n",
       "      <td>Feature</td>\n",
       "      <td>MultiLineString</td>\n",
       "      <td>[[[7.82270609466905, 47.994233003881], [7.8233...</td>\n",
       "      <td>9000003924</td>\n",
       "      <td>2022-07-21 08:07:46.641200+00:00</td>\n",
       "      <td>Europe/Berlin</td>\n",
       "      <td>2022-07-21 06:00:00+00:00</td>\n",
       "      <td>hourly</td>\n",
       "      <td>0.589167</td>\n",
       "      <td>84.865629</td>\n",
       "      <td>208.769448</td>\n",
       "      <td>169.731259</td>\n",
       "      <td>1.697313</td>\n",
       "      <td>25.5</td>\n",
       "    </tr>\n",
       "  </tbody>\n",
       "</table>\n",
       "</div>"
      ],
      "text/plain": [
       "      type    geometry.type  \\\n",
       "0  Feature  MultiLineString   \n",
       "1  Feature  MultiLineString   \n",
       "2  Feature  MultiLineString   \n",
       "3  Feature  MultiLineString   \n",
       "4  Feature  MultiLineString   \n",
       "5  Feature  MultiLineString   \n",
       "6  Feature  MultiLineString   \n",
       "7  Feature  MultiLineString   \n",
       "8  Feature  MultiLineString   \n",
       "\n",
       "                                geometry.coordinates  properties.segment_id  \\\n",
       "0  [[[7.85632179465978, 47.9946964038859], [7.856...             9000002131   \n",
       "1  [[[7.84317729466333, 47.9938840038842], [7.842...             9000002278   \n",
       "2  [[[7.83662139466394, 47.9843122038866], [7.836...             9000002313   \n",
       "3  [[[7.8597269946613, 48.0142050038795], [7.8604...             9000002438   \n",
       "4  [[[7.85325729466223, 48.007344503881], [7.8532...             9000002543   \n",
       "5  [[[7.81726769467111, 47.9985348038787], [7.816...             9000002571   \n",
       "6  [[[7.81134179467293, 47.9999279038773], [7.811...             9000003492   \n",
       "7  [[[7.843815694662, 47.9847759038875], [7.84338...             9000003844   \n",
       "8  [[[7.82270609466905, 47.994233003881], [7.8233...             9000003924   \n",
       "\n",
       "       properties.last_data_package properties.timezone  \\\n",
       "0  2022-07-21 08:07:23.256700+00:00       Europe/Berlin   \n",
       "1  2022-07-21 08:05:36.323700+00:00       Europe/Berlin   \n",
       "2  2022-07-21 08:07:24.882100+00:00       Europe/Berlin   \n",
       "3  2022-06-13 16:13:29.082700+00:00       Europe/Berlin   \n",
       "4  2022-07-21 08:08:29.127100+00:00       Europe/Berlin   \n",
       "5  2021-12-20 09:01:05.874900+00:00       Europe/Berlin   \n",
       "6  2022-07-21 08:07:49.110400+00:00       Europe/Berlin   \n",
       "7  2022-07-21 08:07:08.759100+00:00       Europe/Berlin   \n",
       "8  2022-07-21 08:07:46.641200+00:00       Europe/Berlin   \n",
       "\n",
       "             properties.date properties.period properties.uptime  \\\n",
       "0  2022-07-21 06:00:00+00:00            hourly              0.77   \n",
       "1  2022-07-21 06:00:00+00:00            hourly          0.550833   \n",
       "2  2022-07-21 06:00:00+00:00            hourly          0.526389   \n",
       "3                                                                  \n",
       "4  2022-07-21 06:00:00+00:00            hourly          0.712222   \n",
       "5                                                                  \n",
       "6  2022-07-21 06:00:00+00:00            hourly               0.0   \n",
       "7  2022-07-21 06:00:00+00:00            hourly             0.535   \n",
       "8  2022-07-21 06:00:00+00:00            hourly          0.589167   \n",
       "\n",
       "  properties.heavy properties.car properties.bike properties.pedestrian  \\\n",
       "0       309.090909    1116.883117      592.207792             51.948052   \n",
       "1         30.86233     174.281392      176.096823             10.892587   \n",
       "2       271.662269     526.226913      484.432718              74.08971   \n",
       "3                                                                         \n",
       "4        11.232449      87.051482      203.588144             32.293292   \n",
       "5                                                                         \n",
       "6              0.0            0.0             0.0                   0.0   \n",
       "7        71.028037     364.485981      259.813084              3.738318   \n",
       "8        84.865629     208.769448      169.731259              1.697313   \n",
       "\n",
       "  properties.v85  \n",
       "0           35.0  \n",
       "1           15.0  \n",
       "2           29.5  \n",
       "3                 \n",
       "4           30.5  \n",
       "5                 \n",
       "6                 \n",
       "7           11.5  \n",
       "8           25.5  "
      ]
     },
     "execution_count": 38,
     "metadata": {},
     "output_type": "execute_result"
    }
   ],
   "source": [
    "\n",
    "response_json"
   ]
  },
  {
   "cell_type": "code",
   "execution_count": null,
   "metadata": {},
   "outputs": [
    {
     "ename": "TypeError",
     "evalue": "unhashable type: 'dict'",
     "output_type": "error",
     "traceback": [
      "\u001b[1;31m---------------------------------------------------------------------------\u001b[0m",
      "\u001b[1;31mTypeError\u001b[0m                                 Traceback (most recent call last)",
      "\u001b[1;32mc:\\Users\\Ibrahem.Alsalamh\\OneDrive - Arup\\Freiburg smart city\\traffic data\\Untitled-1.ipynb Cell 11\u001b[0m in \u001b[0;36m<cell line: 1>\u001b[1;34m()\u001b[0m\n\u001b[0;32m      <a href='vscode-notebook-cell:/c%3A/Users/Ibrahem.Alsalamh/OneDrive%20-%20Arup/Freiburg%20smart%20city/traffic%20data/Untitled-1.ipynb#ch0000014?line=0'>1</a>\u001b[0m \u001b[39mfor\u001b[39;00m result \u001b[39min\u001b[39;00m response_json[\u001b[39m'\u001b[39m\u001b[39mfeatures\u001b[39m\u001b[39m'\u001b[39m]:\n\u001b[1;32m----> <a href='vscode-notebook-cell:/c%3A/Users/Ibrahem.Alsalamh/OneDrive%20-%20Arup/Freiburg%20smart%20city/traffic%20data/Untitled-1.ipynb#ch0000014?line=1'>2</a>\u001b[0m     result \u001b[39m=\u001b[39m {result[\u001b[39m\"\u001b[39m\u001b[39mgeometry\u001b[39m\u001b[39m\"\u001b[39m]: result[\u001b[39m\"\u001b[39m\u001b[39mproperties\u001b[39m\u001b[39m\"\u001b[39m]}\n\u001b[0;32m      <a href='vscode-notebook-cell:/c%3A/Users/Ibrahem.Alsalamh/OneDrive%20-%20Arup/Freiburg%20smart%20city/traffic%20data/Untitled-1.ipynb#ch0000014?line=2'>3</a>\u001b[0m result\n",
      "\u001b[1;31mTypeError\u001b[0m: unhashable type: 'dict'"
     ]
    }
   ],
   "source": [
    "for result in response_json['features']:\n",
    "    result = {result[\"geometry\"]: result[\"properties\"]}\n",
    "result    "
   ]
  },
  {
   "cell_type": "code",
   "execution_count": null,
   "metadata": {},
   "outputs": [
    {
     "ename": "SyntaxError",
     "evalue": "invalid syntax (3321700694.py, line 3)",
     "output_type": "error",
     "traceback": [
      "\u001b[1;36m  Input \u001b[1;32mIn [114]\u001b[1;36m\u001b[0m\n\u001b[1;33m    for result in response_json\u001b[0m\n\u001b[1;37m    ^\u001b[0m\n\u001b[1;31mSyntaxError\u001b[0m\u001b[1;31m:\u001b[0m invalid syntax\n"
     ]
    }
   ],
   "source": [
    "name_to_ids = {\n",
    "    result['features'], result['type']\n",
    "    for result in response_json\n",
    "}"
   ]
  }
 ],
 "metadata": {
  "kernelspec": {
   "display_name": "Python 3.9.12 ('base')",
   "language": "python",
   "name": "python3"
  },
  "language_info": {
   "codemirror_mode": {
    "name": "ipython",
    "version": 3
   },
   "file_extension": ".py",
   "mimetype": "text/x-python",
   "name": "python",
   "nbconvert_exporter": "python",
   "pygments_lexer": "ipython3",
   "version": "3.9.12"
  },
  "orig_nbformat": 4,
  "vscode": {
   "interpreter": {
    "hash": "3350b72ebc624db5d51038a2447f3e69c5d1a17b1768837185d7f3aab780820f"
   }
  }
 },
 "nbformat": 4,
 "nbformat_minor": 2
}
